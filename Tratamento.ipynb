{
 "cells": [
  {
   "cell_type": "markdown",
   "metadata": {},
   "source": [
    "Importando as bases e convertendo"
   ]
  },
  {
   "cell_type": "code",
   "execution_count": 1,
   "metadata": {},
   "outputs": [],
   "source": [
    "import pandas as pd\n",
    "import numpy as np\n",
    "\n",
    "df=pd.read_csv(\n",
    "    r'C:\\Users\\blc\\Google Drive\\Esquema - planejamento\\b.csv', \n",
    "    sep =';', \n",
    "    encoding = 'latin', \n",
    "    decimal=',', \n",
    "    thousands='.')\n",
    "\n",
    "df2=pd.read_csv(\n",
    "    r'C:\\Users\\blc\\Google Drive\\Esquema - planejamento\\lab.csv', \n",
    "    sep =';', \n",
    "    encoding = 'latin', \n",
    "    decimal=',', \n",
    "    thousands='.')"
   ]
  },
  {
   "cell_type": "markdown",
   "metadata": {},
   "source": [
    "Anlisar a qualidade geral dos dados"
   ]
  },
  {
   "cell_type": "code",
   "execution_count": 2,
   "metadata": {},
   "outputs": [
    {
     "name": "stdout",
     "output_type": "stream",
     "text": [
      "<class 'pandas.core.frame.DataFrame'>\n",
      "RangeIndex: 1109 entries, 0 to 1108\n",
      "Data columns (total 15 columns):\n",
      " #   Column                      Non-Null Count  Dtype  \n",
      "---  ------                      --------------  -----  \n",
      " 0   Código da Engenharia        1109 non-null   int64  \n",
      " 1   Faturamento Médio           1109 non-null   int64  \n",
      " 2   Quantidade em Estoque       1109 non-null   float64\n",
      " 3   Ordem de Fabricação Aberto  1109 non-null   float64\n",
      " 4   Comprometido                1109 non-null   float64\n",
      " 5   Disponível                  1109 non-null   float64\n",
      " 6   Estoque Mínimo              1109 non-null   float64\n",
      " 7   Balanço                     1109 non-null   float64\n",
      " 8   Prazo Produção              0 non-null      float64\n",
      " 9   Máscara                     1109 non-null   int64  \n",
      " 10  Unidade de Medida           1109 non-null   object \n",
      " 11  Peso Unitário               1109 non-null   float64\n",
      " 12  Peso Total                  1109 non-null   float64\n",
      " 13  Lote!Econômico              1109 non-null   int64  \n",
      " 14  Lote de!Produção            1109 non-null   float64\n",
      "dtypes: float64(10), int64(4), object(1)\n",
      "memory usage: 130.1+ KB\n",
      "================================================================================\n",
      "<class 'pandas.core.frame.DataFrame'>\n",
      "RangeIndex: 14099 entries, 0 to 14098\n",
      "Data columns (total 4 columns):\n",
      " #   Column             Non-Null Count  Dtype \n",
      "---  ------             --------------  ----- \n",
      " 0   Código Engenharia  14099 non-null  object\n",
      " 1   Código Produto     14099 non-null  int64 \n",
      " 2   Status             14099 non-null  object\n",
      " 3   Centro Custo       14099 non-null  object\n",
      "dtypes: int64(1), object(3)\n",
      "memory usage: 440.7+ KB\n"
     ]
    }
   ],
   "source": [
    "df.info()\n",
    "print(\n",
    "    '='*80\n",
    ")\n",
    "df2.info()"
   ]
  },
  {
   "cell_type": "markdown",
   "metadata": {},
   "source": [
    "Visualizar os dados de forma resumida"
   ]
  },
  {
   "cell_type": "code",
   "execution_count": 3,
   "metadata": {
    "scrolled": true
   },
   "outputs": [
    {
     "data": {
      "text/html": [
       "<div>\n",
       "<style scoped>\n",
       "    .dataframe tbody tr th:only-of-type {\n",
       "        vertical-align: middle;\n",
       "    }\n",
       "\n",
       "    .dataframe tbody tr th {\n",
       "        vertical-align: top;\n",
       "    }\n",
       "\n",
       "    .dataframe thead th {\n",
       "        text-align: right;\n",
       "    }\n",
       "</style>\n",
       "<table border=\"1\" class=\"dataframe\">\n",
       "  <thead>\n",
       "    <tr style=\"text-align: right;\">\n",
       "      <th></th>\n",
       "      <th>Código da Engenharia</th>\n",
       "      <th>Faturamento Médio</th>\n",
       "      <th>Quantidade em Estoque</th>\n",
       "      <th>Ordem de Fabricação Aberto</th>\n",
       "      <th>Comprometido</th>\n",
       "      <th>Disponível</th>\n",
       "      <th>Estoque Mínimo</th>\n",
       "      <th>Balanço</th>\n",
       "      <th>Prazo Produção</th>\n",
       "      <th>Máscara</th>\n",
       "      <th>Unidade de Medida</th>\n",
       "      <th>Peso Unitário</th>\n",
       "      <th>Peso Total</th>\n",
       "      <th>Lote!Econômico</th>\n",
       "      <th>Lote de!Produção</th>\n",
       "    </tr>\n",
       "  </thead>\n",
       "  <tbody>\n",
       "    <tr>\n",
       "      <th>0</th>\n",
       "      <td>3</td>\n",
       "      <td>0</td>\n",
       "      <td>0.0</td>\n",
       "      <td>0.0</td>\n",
       "      <td>0.0</td>\n",
       "      <td>0.0</td>\n",
       "      <td>300.0</td>\n",
       "      <td>-300.0</td>\n",
       "      <td>NaN</td>\n",
       "      <td>1010218</td>\n",
       "      <td>kg</td>\n",
       "      <td>1.0</td>\n",
       "      <td>300.0</td>\n",
       "      <td>0</td>\n",
       "      <td>300.0</td>\n",
       "    </tr>\n",
       "    <tr>\n",
       "      <th>1</th>\n",
       "      <td>4</td>\n",
       "      <td>0</td>\n",
       "      <td>160.0</td>\n",
       "      <td>0.0</td>\n",
       "      <td>0.0</td>\n",
       "      <td>160.0</td>\n",
       "      <td>200.0</td>\n",
       "      <td>-40.0</td>\n",
       "      <td>NaN</td>\n",
       "      <td>1010212</td>\n",
       "      <td>kg</td>\n",
       "      <td>1.0</td>\n",
       "      <td>40.0</td>\n",
       "      <td>0</td>\n",
       "      <td>300.0</td>\n",
       "    </tr>\n",
       "    <tr>\n",
       "      <th>2</th>\n",
       "      <td>5</td>\n",
       "      <td>0</td>\n",
       "      <td>192.0</td>\n",
       "      <td>0.0</td>\n",
       "      <td>60.0</td>\n",
       "      <td>132.0</td>\n",
       "      <td>0.0</td>\n",
       "      <td>132.0</td>\n",
       "      <td>NaN</td>\n",
       "      <td>1224008</td>\n",
       "      <td>kg</td>\n",
       "      <td>1.0</td>\n",
       "      <td>132.0</td>\n",
       "      <td>0</td>\n",
       "      <td>120.0</td>\n",
       "    </tr>\n",
       "    <tr>\n",
       "      <th>3</th>\n",
       "      <td>6</td>\n",
       "      <td>0</td>\n",
       "      <td>0.0</td>\n",
       "      <td>0.0</td>\n",
       "      <td>0.0</td>\n",
       "      <td>0.0</td>\n",
       "      <td>300.0</td>\n",
       "      <td>-300.0</td>\n",
       "      <td>NaN</td>\n",
       "      <td>1010201</td>\n",
       "      <td>kg</td>\n",
       "      <td>1.0</td>\n",
       "      <td>300.0</td>\n",
       "      <td>0</td>\n",
       "      <td>300.0</td>\n",
       "    </tr>\n",
       "    <tr>\n",
       "      <th>4</th>\n",
       "      <td>8</td>\n",
       "      <td>0</td>\n",
       "      <td>742.5</td>\n",
       "      <td>0.0</td>\n",
       "      <td>12.5</td>\n",
       "      <td>730.0</td>\n",
       "      <td>600.0</td>\n",
       "      <td>130.0</td>\n",
       "      <td>NaN</td>\n",
       "      <td>1010202</td>\n",
       "      <td>kg</td>\n",
       "      <td>1.0</td>\n",
       "      <td>130.0</td>\n",
       "      <td>0</td>\n",
       "      <td>300.0</td>\n",
       "    </tr>\n",
       "  </tbody>\n",
       "</table>\n",
       "</div>"
      ],
      "text/plain": [
       "   Código da Engenharia  Faturamento Médio  Quantidade em Estoque  \\\n",
       "0                     3                  0                    0.0   \n",
       "1                     4                  0                  160.0   \n",
       "2                     5                  0                  192.0   \n",
       "3                     6                  0                    0.0   \n",
       "4                     8                  0                  742.5   \n",
       "\n",
       "   Ordem de Fabricação Aberto  Comprometido  Disponível  Estoque Mínimo  \\\n",
       "0                         0.0           0.0         0.0           300.0   \n",
       "1                         0.0           0.0       160.0           200.0   \n",
       "2                         0.0          60.0       132.0             0.0   \n",
       "3                         0.0           0.0         0.0           300.0   \n",
       "4                         0.0          12.5       730.0           600.0   \n",
       "\n",
       "   Balanço  Prazo Produção  Máscara Unidade de Medida  Peso Unitário  \\\n",
       "0   -300.0             NaN  1010218                kg            1.0   \n",
       "1    -40.0             NaN  1010212                kg            1.0   \n",
       "2    132.0             NaN  1224008                kg            1.0   \n",
       "3   -300.0             NaN  1010201                kg            1.0   \n",
       "4    130.0             NaN  1010202                kg            1.0   \n",
       "\n",
       "   Peso Total  Lote!Econômico  Lote de!Produção  \n",
       "0       300.0               0             300.0  \n",
       "1        40.0               0             300.0  \n",
       "2       132.0               0             120.0  \n",
       "3       300.0               0             300.0  \n",
       "4       130.0               0             300.0  "
      ]
     },
     "execution_count": 3,
     "metadata": {},
     "output_type": "execute_result"
    }
   ],
   "source": [
    "df.head()"
   ]
  },
  {
   "cell_type": "code",
   "execution_count": 4,
   "metadata": {},
   "outputs": [
    {
     "data": {
      "text/html": [
       "<div>\n",
       "<style scoped>\n",
       "    .dataframe tbody tr th:only-of-type {\n",
       "        vertical-align: middle;\n",
       "    }\n",
       "\n",
       "    .dataframe tbody tr th {\n",
       "        vertical-align: top;\n",
       "    }\n",
       "\n",
       "    .dataframe thead th {\n",
       "        text-align: right;\n",
       "    }\n",
       "</style>\n",
       "<table border=\"1\" class=\"dataframe\">\n",
       "  <thead>\n",
       "    <tr style=\"text-align: right;\">\n",
       "      <th></th>\n",
       "      <th>Código Engenharia</th>\n",
       "      <th>Código Produto</th>\n",
       "      <th>Status</th>\n",
       "      <th>Centro Custo</th>\n",
       "    </tr>\n",
       "  </thead>\n",
       "  <tbody>\n",
       "    <tr>\n",
       "      <th>0</th>\n",
       "      <td>000000001-0</td>\n",
       "      <td>1</td>\n",
       "      <td>Inativo</td>\n",
       "      <td>1.2.001 - Laboratorio Pastas Lisas</td>\n",
       "    </tr>\n",
       "    <tr>\n",
       "      <th>1</th>\n",
       "      <td>000000001-0</td>\n",
       "      <td>1</td>\n",
       "      <td>Inativo</td>\n",
       "      <td>1.2.001 - Laboratorio Pastas Lisas</td>\n",
       "    </tr>\n",
       "    <tr>\n",
       "      <th>2</th>\n",
       "      <td>000000001-0</td>\n",
       "      <td>1</td>\n",
       "      <td>Inativo</td>\n",
       "      <td>1.2.001 - Laboratorio Pastas Lisas</td>\n",
       "    </tr>\n",
       "    <tr>\n",
       "      <th>3</th>\n",
       "      <td>000000001-0</td>\n",
       "      <td>1</td>\n",
       "      <td>Inativo</td>\n",
       "      <td>1.2.001 - Laboratorio Pastas Lisas</td>\n",
       "    </tr>\n",
       "    <tr>\n",
       "      <th>4</th>\n",
       "      <td>000000001-0</td>\n",
       "      <td>1</td>\n",
       "      <td>Inativo</td>\n",
       "      <td>1.2.001 - Laboratorio Pastas Lisas</td>\n",
       "    </tr>\n",
       "  </tbody>\n",
       "</table>\n",
       "</div>"
      ],
      "text/plain": [
       "  Código Engenharia  Código Produto   Status  \\\n",
       "0       000000001-0               1  Inativo   \n",
       "1       000000001-0               1  Inativo   \n",
       "2       000000001-0               1  Inativo   \n",
       "3       000000001-0               1  Inativo   \n",
       "4       000000001-0               1  Inativo   \n",
       "\n",
       "                         Centro Custo  \n",
       "0  1.2.001 - Laboratorio Pastas Lisas  \n",
       "1  1.2.001 - Laboratorio Pastas Lisas  \n",
       "2  1.2.001 - Laboratorio Pastas Lisas  \n",
       "3  1.2.001 - Laboratorio Pastas Lisas  \n",
       "4  1.2.001 - Laboratorio Pastas Lisas  "
      ]
     },
     "execution_count": 4,
     "metadata": {},
     "output_type": "execute_result"
    }
   ],
   "source": [
    "df2.head()"
   ]
  },
  {
   "cell_type": "markdown",
   "metadata": {},
   "source": [
    "Análise descritiva dos dados da 'df"
   ]
  },
  {
   "cell_type": "code",
   "execution_count": 5,
   "metadata": {},
   "outputs": [
    {
     "data": {
      "text/html": [
       "<div>\n",
       "<style scoped>\n",
       "    .dataframe tbody tr th:only-of-type {\n",
       "        vertical-align: middle;\n",
       "    }\n",
       "\n",
       "    .dataframe tbody tr th {\n",
       "        vertical-align: top;\n",
       "    }\n",
       "\n",
       "    .dataframe thead th {\n",
       "        text-align: right;\n",
       "    }\n",
       "</style>\n",
       "<table border=\"1\" class=\"dataframe\">\n",
       "  <thead>\n",
       "    <tr style=\"text-align: right;\">\n",
       "      <th></th>\n",
       "      <th>Código da Engenharia</th>\n",
       "      <th>Faturamento Médio</th>\n",
       "      <th>Quantidade em Estoque</th>\n",
       "      <th>Ordem de Fabricação Aberto</th>\n",
       "      <th>Comprometido</th>\n",
       "      <th>Disponível</th>\n",
       "      <th>Estoque Mínimo</th>\n",
       "      <th>Balanço</th>\n",
       "      <th>Prazo Produção</th>\n",
       "      <th>Máscara</th>\n",
       "      <th>Peso Unitário</th>\n",
       "      <th>Peso Total</th>\n",
       "      <th>Lote!Econômico</th>\n",
       "      <th>Lote de!Produção</th>\n",
       "    </tr>\n",
       "  </thead>\n",
       "  <tbody>\n",
       "    <tr>\n",
       "      <th>count</th>\n",
       "      <td>1109.00</td>\n",
       "      <td>1109.0</td>\n",
       "      <td>1109.00</td>\n",
       "      <td>1109.00</td>\n",
       "      <td>1109.00</td>\n",
       "      <td>1109.00</td>\n",
       "      <td>1109.00</td>\n",
       "      <td>1109.00</td>\n",
       "      <td>0.0</td>\n",
       "      <td>1109.00</td>\n",
       "      <td>1109.00</td>\n",
       "      <td>1109.00</td>\n",
       "      <td>1109.0</td>\n",
       "      <td>1109.00</td>\n",
       "    </tr>\n",
       "    <tr>\n",
       "      <th>mean</th>\n",
       "      <td>1112.32</td>\n",
       "      <td>0.0</td>\n",
       "      <td>459.75</td>\n",
       "      <td>1179.71</td>\n",
       "      <td>486.33</td>\n",
       "      <td>1153.12</td>\n",
       "      <td>332.30</td>\n",
       "      <td>820.82</td>\n",
       "      <td>NaN</td>\n",
       "      <td>1464752.13</td>\n",
       "      <td>15.02</td>\n",
       "      <td>82.85</td>\n",
       "      <td>0.0</td>\n",
       "      <td>102.28</td>\n",
       "    </tr>\n",
       "    <tr>\n",
       "      <th>std</th>\n",
       "      <td>794.60</td>\n",
       "      <td>0.0</td>\n",
       "      <td>1420.36</td>\n",
       "      <td>5039.77</td>\n",
       "      <td>2990.90</td>\n",
       "      <td>3495.19</td>\n",
       "      <td>2474.22</td>\n",
       "      <td>2747.32</td>\n",
       "      <td>NaN</td>\n",
       "      <td>851491.18</td>\n",
       "      <td>414.73</td>\n",
       "      <td>177.63</td>\n",
       "      <td>0.0</td>\n",
       "      <td>188.68</td>\n",
       "    </tr>\n",
       "    <tr>\n",
       "      <th>min</th>\n",
       "      <td>3.00</td>\n",
       "      <td>0.0</td>\n",
       "      <td>0.00</td>\n",
       "      <td>0.00</td>\n",
       "      <td>0.00</td>\n",
       "      <td>-569.40</td>\n",
       "      <td>0.00</td>\n",
       "      <td>-26856.00</td>\n",
       "      <td>NaN</td>\n",
       "      <td>1010201.00</td>\n",
       "      <td>0.00</td>\n",
       "      <td>0.00</td>\n",
       "      <td>0.0</td>\n",
       "      <td>0.00</td>\n",
       "    </tr>\n",
       "    <tr>\n",
       "      <th>25%</th>\n",
       "      <td>442.00</td>\n",
       "      <td>0.0</td>\n",
       "      <td>0.00</td>\n",
       "      <td>0.00</td>\n",
       "      <td>0.00</td>\n",
       "      <td>0.00</td>\n",
       "      <td>0.00</td>\n",
       "      <td>0.00</td>\n",
       "      <td>NaN</td>\n",
       "      <td>1049943.00</td>\n",
       "      <td>1.00</td>\n",
       "      <td>0.00</td>\n",
       "      <td>0.0</td>\n",
       "      <td>0.00</td>\n",
       "    </tr>\n",
       "    <tr>\n",
       "      <th>50%</th>\n",
       "      <td>861.00</td>\n",
       "      <td>0.0</td>\n",
       "      <td>7.40</td>\n",
       "      <td>0.00</td>\n",
       "      <td>0.00</td>\n",
       "      <td>8.00</td>\n",
       "      <td>0.00</td>\n",
       "      <td>0.00</td>\n",
       "      <td>NaN</td>\n",
       "      <td>1119904.00</td>\n",
       "      <td>1.00</td>\n",
       "      <td>3.52</td>\n",
       "      <td>0.0</td>\n",
       "      <td>0.00</td>\n",
       "    </tr>\n",
       "    <tr>\n",
       "      <th>75%</th>\n",
       "      <td>1898.00</td>\n",
       "      <td>0.0</td>\n",
       "      <td>260.40</td>\n",
       "      <td>300.00</td>\n",
       "      <td>36.00</td>\n",
       "      <td>525.00</td>\n",
       "      <td>65.00</td>\n",
       "      <td>320.00</td>\n",
       "      <td>NaN</td>\n",
       "      <td>2011130.00</td>\n",
       "      <td>1.00</td>\n",
       "      <td>54.00</td>\n",
       "      <td>0.0</td>\n",
       "      <td>120.00</td>\n",
       "    </tr>\n",
       "    <tr>\n",
       "      <th>max</th>\n",
       "      <td>6000.00</td>\n",
       "      <td>0.0</td>\n",
       "      <td>17122.00</td>\n",
       "      <td>76770.00</td>\n",
       "      <td>45472.00</td>\n",
       "      <td>43750.00</td>\n",
       "      <td>65004.00</td>\n",
       "      <td>32484.00</td>\n",
       "      <td>NaN</td>\n",
       "      <td>9999999.00</td>\n",
       "      <td>13737.00</td>\n",
       "      <td>957.00</td>\n",
       "      <td>0.0</td>\n",
       "      <td>1201.20</td>\n",
       "    </tr>\n",
       "  </tbody>\n",
       "</table>\n",
       "</div>"
      ],
      "text/plain": [
       "       Código da Engenharia  Faturamento Médio  Quantidade em Estoque  \\\n",
       "count               1109.00             1109.0                1109.00   \n",
       "mean                1112.32                0.0                 459.75   \n",
       "std                  794.60                0.0                1420.36   \n",
       "min                    3.00                0.0                   0.00   \n",
       "25%                  442.00                0.0                   0.00   \n",
       "50%                  861.00                0.0                   7.40   \n",
       "75%                 1898.00                0.0                 260.40   \n",
       "max                 6000.00                0.0               17122.00   \n",
       "\n",
       "       Ordem de Fabricação Aberto  Comprometido  Disponível  Estoque Mínimo  \\\n",
       "count                     1109.00       1109.00     1109.00         1109.00   \n",
       "mean                      1179.71        486.33     1153.12          332.30   \n",
       "std                       5039.77       2990.90     3495.19         2474.22   \n",
       "min                          0.00          0.00     -569.40            0.00   \n",
       "25%                          0.00          0.00        0.00            0.00   \n",
       "50%                          0.00          0.00        8.00            0.00   \n",
       "75%                        300.00         36.00      525.00           65.00   \n",
       "max                      76770.00      45472.00    43750.00        65004.00   \n",
       "\n",
       "        Balanço  Prazo Produção     Máscara  Peso Unitário  Peso Total  \\\n",
       "count   1109.00             0.0     1109.00        1109.00     1109.00   \n",
       "mean     820.82             NaN  1464752.13          15.02       82.85   \n",
       "std     2747.32             NaN   851491.18         414.73      177.63   \n",
       "min   -26856.00             NaN  1010201.00           0.00        0.00   \n",
       "25%        0.00             NaN  1049943.00           1.00        0.00   \n",
       "50%        0.00             NaN  1119904.00           1.00        3.52   \n",
       "75%      320.00             NaN  2011130.00           1.00       54.00   \n",
       "max    32484.00             NaN  9999999.00       13737.00      957.00   \n",
       "\n",
       "       Lote!Econômico  Lote de!Produção  \n",
       "count          1109.0           1109.00  \n",
       "mean              0.0            102.28  \n",
       "std               0.0            188.68  \n",
       "min               0.0              0.00  \n",
       "25%               0.0              0.00  \n",
       "50%               0.0              0.00  \n",
       "75%               0.0            120.00  \n",
       "max               0.0           1201.20  "
      ]
     },
     "execution_count": 5,
     "metadata": {},
     "output_type": "execute_result"
    }
   ],
   "source": [
    "df.describe().round(2)"
   ]
  },
  {
   "cell_type": "markdown",
   "metadata": {},
   "source": [
    "# inicia tratamento da df"
   ]
  },
  {
   "cell_type": "markdown",
   "metadata": {},
   "source": [
    "Remover colunas desnecessárias: "
   ]
  },
  {
   "cell_type": "code",
   "execution_count": 6,
   "metadata": {},
   "outputs": [],
   "source": [
    "df.drop(\n",
    "    ['Faturamento Médio',\n",
    "    'Ordem de Fabricação Aberto',\n",
    "    'Disponível', \n",
    "     'Estoque Mínimo',\n",
    "    'Balanço', \n",
    "     'Prazo Produção',\n",
    "    'Máscara', \n",
    "     'Unidade de Medida',\n",
    "    'Peso Unitário', \n",
    "    'Peso Total', \n",
    "    'Lote!Econômico', \n",
    "    'Lote de!Produção'],\n",
    "    axis=1, inplace=True)"
   ]
  },
  {
   "cell_type": "markdown",
   "metadata": {},
   "source": [
    "Renomear as colunas que utilizarei"
   ]
  },
  {
   "cell_type": "code",
   "execution_count": 7,
   "metadata": {},
   "outputs": [],
   "source": [
    "df.rename(\n",
    "    columns={\n",
    "        'Código da Engenharia':'CodProd',\n",
    "        'Quantidade em Estoque':'Estoq',\n",
    "        'Comprometido':'Order'},\n",
    "          inplace=True\n",
    ")"
   ]
  },
  {
   "cell_type": "markdown",
   "metadata": {},
   "source": [
    "conferir se os nomes estão ok "
   ]
  },
  {
   "cell_type": "code",
   "execution_count": 8,
   "metadata": {},
   "outputs": [
    {
     "data": {
      "text/plain": [
       "Index(['CodProd', 'Estoq', 'Order'], dtype='object')"
      ]
     },
     "execution_count": 8,
     "metadata": {},
     "output_type": "execute_result"
    }
   ],
   "source": [
    "df.columns"
   ]
  },
  {
   "cell_type": "markdown",
   "metadata": {},
   "source": [
    "Atualiza visualização "
   ]
  },
  {
   "cell_type": "code",
   "execution_count": 9,
   "metadata": {},
   "outputs": [
    {
     "data": {
      "text/html": [
       "<div>\n",
       "<style scoped>\n",
       "    .dataframe tbody tr th:only-of-type {\n",
       "        vertical-align: middle;\n",
       "    }\n",
       "\n",
       "    .dataframe tbody tr th {\n",
       "        vertical-align: top;\n",
       "    }\n",
       "\n",
       "    .dataframe thead th {\n",
       "        text-align: right;\n",
       "    }\n",
       "</style>\n",
       "<table border=\"1\" class=\"dataframe\">\n",
       "  <thead>\n",
       "    <tr style=\"text-align: right;\">\n",
       "      <th></th>\n",
       "      <th>CodProd</th>\n",
       "      <th>Estoq</th>\n",
       "      <th>Order</th>\n",
       "    </tr>\n",
       "  </thead>\n",
       "  <tbody>\n",
       "    <tr>\n",
       "      <th>0</th>\n",
       "      <td>3</td>\n",
       "      <td>0.0</td>\n",
       "      <td>0.0</td>\n",
       "    </tr>\n",
       "    <tr>\n",
       "      <th>1</th>\n",
       "      <td>4</td>\n",
       "      <td>160.0</td>\n",
       "      <td>0.0</td>\n",
       "    </tr>\n",
       "    <tr>\n",
       "      <th>2</th>\n",
       "      <td>5</td>\n",
       "      <td>192.0</td>\n",
       "      <td>60.0</td>\n",
       "    </tr>\n",
       "    <tr>\n",
       "      <th>3</th>\n",
       "      <td>6</td>\n",
       "      <td>0.0</td>\n",
       "      <td>0.0</td>\n",
       "    </tr>\n",
       "    <tr>\n",
       "      <th>4</th>\n",
       "      <td>8</td>\n",
       "      <td>742.5</td>\n",
       "      <td>12.5</td>\n",
       "    </tr>\n",
       "  </tbody>\n",
       "</table>\n",
       "</div>"
      ],
      "text/plain": [
       "   CodProd  Estoq  Order\n",
       "0        3    0.0    0.0\n",
       "1        4  160.0    0.0\n",
       "2        5  192.0   60.0\n",
       "3        6    0.0    0.0\n",
       "4        8  742.5   12.5"
      ]
     },
     "execution_count": 9,
     "metadata": {},
     "output_type": "execute_result"
    }
   ],
   "source": [
    "df.head()"
   ]
  },
  {
   "cell_type": "markdown",
   "metadata": {},
   "source": [
    "Adiciona coluna de resultado da subtração"
   ]
  },
  {
   "cell_type": "code",
   "execution_count": 10,
   "metadata": {},
   "outputs": [
    {
     "data": {
      "text/html": [
       "<div>\n",
       "<style scoped>\n",
       "    .dataframe tbody tr th:only-of-type {\n",
       "        vertical-align: middle;\n",
       "    }\n",
       "\n",
       "    .dataframe tbody tr th {\n",
       "        vertical-align: top;\n",
       "    }\n",
       "\n",
       "    .dataframe thead th {\n",
       "        text-align: right;\n",
       "    }\n",
       "</style>\n",
       "<table border=\"1\" class=\"dataframe\">\n",
       "  <thead>\n",
       "    <tr style=\"text-align: right;\">\n",
       "      <th></th>\n",
       "      <th>CodProd</th>\n",
       "      <th>Estoq</th>\n",
       "      <th>Order</th>\n",
       "      <th>saldo</th>\n",
       "    </tr>\n",
       "  </thead>\n",
       "  <tbody>\n",
       "    <tr>\n",
       "      <th>0</th>\n",
       "      <td>3</td>\n",
       "      <td>0.0</td>\n",
       "      <td>0.0</td>\n",
       "      <td>0.0</td>\n",
       "    </tr>\n",
       "    <tr>\n",
       "      <th>1</th>\n",
       "      <td>4</td>\n",
       "      <td>160.0</td>\n",
       "      <td>0.0</td>\n",
       "      <td>160.0</td>\n",
       "    </tr>\n",
       "    <tr>\n",
       "      <th>2</th>\n",
       "      <td>5</td>\n",
       "      <td>192.0</td>\n",
       "      <td>60.0</td>\n",
       "      <td>132.0</td>\n",
       "    </tr>\n",
       "    <tr>\n",
       "      <th>3</th>\n",
       "      <td>6</td>\n",
       "      <td>0.0</td>\n",
       "      <td>0.0</td>\n",
       "      <td>0.0</td>\n",
       "    </tr>\n",
       "    <tr>\n",
       "      <th>4</th>\n",
       "      <td>8</td>\n",
       "      <td>742.5</td>\n",
       "      <td>12.5</td>\n",
       "      <td>730.0</td>\n",
       "    </tr>\n",
       "  </tbody>\n",
       "</table>\n",
       "</div>"
      ],
      "text/plain": [
       "   CodProd  Estoq  Order  saldo\n",
       "0        3    0.0    0.0    0.0\n",
       "1        4  160.0    0.0  160.0\n",
       "2        5  192.0   60.0  132.0\n",
       "3        6    0.0    0.0    0.0\n",
       "4        8  742.5   12.5  730.0"
      ]
     },
     "execution_count": 10,
     "metadata": {},
     "output_type": "execute_result"
    }
   ],
   "source": [
    "df['saldo']= df['Estoq']-df['Order']\n",
    "df.head()"
   ]
  },
  {
   "cell_type": "markdown",
   "metadata": {},
   "source": [
    "ordenando os dados da coluna saldo"
   ]
  },
  {
   "cell_type": "code",
   "execution_count": 11,
   "metadata": {
    "scrolled": true
   },
   "outputs": [
    {
     "data": {
      "text/html": [
       "<div>\n",
       "<style scoped>\n",
       "    .dataframe tbody tr th:only-of-type {\n",
       "        vertical-align: middle;\n",
       "    }\n",
       "\n",
       "    .dataframe tbody tr th {\n",
       "        vertical-align: top;\n",
       "    }\n",
       "\n",
       "    .dataframe thead th {\n",
       "        text-align: right;\n",
       "    }\n",
       "</style>\n",
       "<table border=\"1\" class=\"dataframe\">\n",
       "  <thead>\n",
       "    <tr style=\"text-align: right;\">\n",
       "      <th></th>\n",
       "      <th>CodProd</th>\n",
       "      <th>Estoq</th>\n",
       "      <th>Order</th>\n",
       "      <th>saldo</th>\n",
       "    </tr>\n",
       "  </thead>\n",
       "  <tbody>\n",
       "    <tr>\n",
       "      <th>581</th>\n",
       "      <td>909</td>\n",
       "      <td>8064.0</td>\n",
       "      <td>44254.0</td>\n",
       "      <td>-36190.0</td>\n",
       "    </tr>\n",
       "    <tr>\n",
       "      <th>728</th>\n",
       "      <td>1475</td>\n",
       "      <td>1084.0</td>\n",
       "      <td>34104.0</td>\n",
       "      <td>-33020.0</td>\n",
       "    </tr>\n",
       "    <tr>\n",
       "      <th>654</th>\n",
       "      <td>1128</td>\n",
       "      <td>15134.0</td>\n",
       "      <td>45472.0</td>\n",
       "      <td>-30338.0</td>\n",
       "    </tr>\n",
       "    <tr>\n",
       "      <th>582</th>\n",
       "      <td>910</td>\n",
       "      <td>17122.0</td>\n",
       "      <td>44828.0</td>\n",
       "      <td>-27706.0</td>\n",
       "    </tr>\n",
       "    <tr>\n",
       "      <th>609</th>\n",
       "      <td>972</td>\n",
       "      <td>2506.0</td>\n",
       "      <td>23646.0</td>\n",
       "      <td>-21140.0</td>\n",
       "    </tr>\n",
       "    <tr>\n",
       "      <th>...</th>\n",
       "      <td>...</td>\n",
       "      <td>...</td>\n",
       "      <td>...</td>\n",
       "      <td>...</td>\n",
       "    </tr>\n",
       "    <tr>\n",
       "      <th>748</th>\n",
       "      <td>1511</td>\n",
       "      <td>5792.0</td>\n",
       "      <td>4.0</td>\n",
       "      <td>5788.0</td>\n",
       "    </tr>\n",
       "    <tr>\n",
       "      <th>737</th>\n",
       "      <td>1491</td>\n",
       "      <td>7732.0</td>\n",
       "      <td>1528.0</td>\n",
       "      <td>6204.0</td>\n",
       "    </tr>\n",
       "    <tr>\n",
       "      <th>271</th>\n",
       "      <td>435</td>\n",
       "      <td>6548.0</td>\n",
       "      <td>0.0</td>\n",
       "      <td>6548.0</td>\n",
       "    </tr>\n",
       "    <tr>\n",
       "      <th>521</th>\n",
       "      <td>811</td>\n",
       "      <td>8372.0</td>\n",
       "      <td>0.0</td>\n",
       "      <td>8372.0</td>\n",
       "    </tr>\n",
       "    <tr>\n",
       "      <th>330</th>\n",
       "      <td>520</td>\n",
       "      <td>8784.0</td>\n",
       "      <td>0.0</td>\n",
       "      <td>8784.0</td>\n",
       "    </tr>\n",
       "  </tbody>\n",
       "</table>\n",
       "<p>1109 rows × 4 columns</p>\n",
       "</div>"
      ],
      "text/plain": [
       "     CodProd    Estoq    Order    saldo\n",
       "581      909   8064.0  44254.0 -36190.0\n",
       "728     1475   1084.0  34104.0 -33020.0\n",
       "654     1128  15134.0  45472.0 -30338.0\n",
       "582      910  17122.0  44828.0 -27706.0\n",
       "609      972   2506.0  23646.0 -21140.0\n",
       "..       ...      ...      ...      ...\n",
       "748     1511   5792.0      4.0   5788.0\n",
       "737     1491   7732.0   1528.0   6204.0\n",
       "271      435   6548.0      0.0   6548.0\n",
       "521      811   8372.0      0.0   8372.0\n",
       "330      520   8784.0      0.0   8784.0\n",
       "\n",
       "[1109 rows x 4 columns]"
      ]
     },
     "execution_count": 11,
     "metadata": {},
     "output_type": "execute_result"
    }
   ],
   "source": [
    "#df.sort_values('saldo',ascending=True)\n",
    "\n",
    "df.sort_values('saldo')"
   ]
  },
  {
   "cell_type": "code",
   "execution_count": 12,
   "metadata": {},
   "outputs": [],
   "source": [
    "tb = df.sort_values('saldo')"
   ]
  },
  {
   "cell_type": "code",
   "execution_count": 13,
   "metadata": {},
   "outputs": [
    {
     "data": {
      "text/html": [
       "<div>\n",
       "<style scoped>\n",
       "    .dataframe tbody tr th:only-of-type {\n",
       "        vertical-align: middle;\n",
       "    }\n",
       "\n",
       "    .dataframe tbody tr th {\n",
       "        vertical-align: top;\n",
       "    }\n",
       "\n",
       "    .dataframe thead th {\n",
       "        text-align: right;\n",
       "    }\n",
       "</style>\n",
       "<table border=\"1\" class=\"dataframe\">\n",
       "  <thead>\n",
       "    <tr style=\"text-align: right;\">\n",
       "      <th></th>\n",
       "      <th>CodProd</th>\n",
       "      <th>Estoq</th>\n",
       "      <th>Order</th>\n",
       "      <th>saldo</th>\n",
       "    </tr>\n",
       "  </thead>\n",
       "  <tbody>\n",
       "    <tr>\n",
       "      <th>581</th>\n",
       "      <td>909</td>\n",
       "      <td>8064.0</td>\n",
       "      <td>44254.0</td>\n",
       "      <td>-36190.0</td>\n",
       "    </tr>\n",
       "    <tr>\n",
       "      <th>728</th>\n",
       "      <td>1475</td>\n",
       "      <td>1084.0</td>\n",
       "      <td>34104.0</td>\n",
       "      <td>-33020.0</td>\n",
       "    </tr>\n",
       "    <tr>\n",
       "      <th>654</th>\n",
       "      <td>1128</td>\n",
       "      <td>15134.0</td>\n",
       "      <td>45472.0</td>\n",
       "      <td>-30338.0</td>\n",
       "    </tr>\n",
       "    <tr>\n",
       "      <th>582</th>\n",
       "      <td>910</td>\n",
       "      <td>17122.0</td>\n",
       "      <td>44828.0</td>\n",
       "      <td>-27706.0</td>\n",
       "    </tr>\n",
       "    <tr>\n",
       "      <th>609</th>\n",
       "      <td>972</td>\n",
       "      <td>2506.0</td>\n",
       "      <td>23646.0</td>\n",
       "      <td>-21140.0</td>\n",
       "    </tr>\n",
       "    <tr>\n",
       "      <th>...</th>\n",
       "      <td>...</td>\n",
       "      <td>...</td>\n",
       "      <td>...</td>\n",
       "      <td>...</td>\n",
       "    </tr>\n",
       "    <tr>\n",
       "      <th>748</th>\n",
       "      <td>1511</td>\n",
       "      <td>5792.0</td>\n",
       "      <td>4.0</td>\n",
       "      <td>5788.0</td>\n",
       "    </tr>\n",
       "    <tr>\n",
       "      <th>737</th>\n",
       "      <td>1491</td>\n",
       "      <td>7732.0</td>\n",
       "      <td>1528.0</td>\n",
       "      <td>6204.0</td>\n",
       "    </tr>\n",
       "    <tr>\n",
       "      <th>271</th>\n",
       "      <td>435</td>\n",
       "      <td>6548.0</td>\n",
       "      <td>0.0</td>\n",
       "      <td>6548.0</td>\n",
       "    </tr>\n",
       "    <tr>\n",
       "      <th>521</th>\n",
       "      <td>811</td>\n",
       "      <td>8372.0</td>\n",
       "      <td>0.0</td>\n",
       "      <td>8372.0</td>\n",
       "    </tr>\n",
       "    <tr>\n",
       "      <th>330</th>\n",
       "      <td>520</td>\n",
       "      <td>8784.0</td>\n",
       "      <td>0.0</td>\n",
       "      <td>8784.0</td>\n",
       "    </tr>\n",
       "  </tbody>\n",
       "</table>\n",
       "<p>1109 rows × 4 columns</p>\n",
       "</div>"
      ],
      "text/plain": [
       "     CodProd    Estoq    Order    saldo\n",
       "581      909   8064.0  44254.0 -36190.0\n",
       "728     1475   1084.0  34104.0 -33020.0\n",
       "654     1128  15134.0  45472.0 -30338.0\n",
       "582      910  17122.0  44828.0 -27706.0\n",
       "609      972   2506.0  23646.0 -21140.0\n",
       "..       ...      ...      ...      ...\n",
       "748     1511   5792.0      4.0   5788.0\n",
       "737     1491   7732.0   1528.0   6204.0\n",
       "271      435   6548.0      0.0   6548.0\n",
       "521      811   8372.0      0.0   8372.0\n",
       "330      520   8784.0      0.0   8784.0\n",
       "\n",
       "[1109 rows x 4 columns]"
      ]
     },
     "execution_count": 13,
     "metadata": {},
     "output_type": "execute_result"
    }
   ],
   "source": [
    "tb.round()"
   ]
  },
  {
   "cell_type": "markdown",
   "metadata": {},
   "source": [
    "# Finaliza tratamento da df e inicia tratamento da df1"
   ]
  },
  {
   "cell_type": "markdown",
   "metadata": {},
   "source": [
    "identifica as colunas "
   ]
  },
  {
   "cell_type": "code",
   "execution_count": 14,
   "metadata": {},
   "outputs": [
    {
     "data": {
      "text/plain": [
       "Index(['Código Engenharia', 'Código Produto', 'Status', 'Centro Custo'], dtype='object')"
      ]
     },
     "execution_count": 14,
     "metadata": {},
     "output_type": "execute_result"
    }
   ],
   "source": [
    "df2.columns"
   ]
  },
  {
   "cell_type": "markdown",
   "metadata": {},
   "source": [
    "Remove colunas desnecessárias "
   ]
  },
  {
   "cell_type": "code",
   "execution_count": 15,
   "metadata": {},
   "outputs": [],
   "source": [
    "df2.drop(\n",
    "    ['Código Engenharia',\n",
    "        'Status'], \n",
    "    axis=1, \n",
    "    inplace=True\n",
    ")"
   ]
  },
  {
   "cell_type": "markdown",
   "metadata": {},
   "source": [
    "Confere as colunas disponíveis "
   ]
  },
  {
   "cell_type": "code",
   "execution_count": 16,
   "metadata": {},
   "outputs": [
    {
     "data": {
      "text/html": [
       "<div>\n",
       "<style scoped>\n",
       "    .dataframe tbody tr th:only-of-type {\n",
       "        vertical-align: middle;\n",
       "    }\n",
       "\n",
       "    .dataframe tbody tr th {\n",
       "        vertical-align: top;\n",
       "    }\n",
       "\n",
       "    .dataframe thead th {\n",
       "        text-align: right;\n",
       "    }\n",
       "</style>\n",
       "<table border=\"1\" class=\"dataframe\">\n",
       "  <thead>\n",
       "    <tr style=\"text-align: right;\">\n",
       "      <th></th>\n",
       "      <th>Código Produto</th>\n",
       "      <th>Centro Custo</th>\n",
       "    </tr>\n",
       "  </thead>\n",
       "  <tbody>\n",
       "    <tr>\n",
       "      <th>0</th>\n",
       "      <td>1</td>\n",
       "      <td>1.2.001 - Laboratorio Pastas Lisas</td>\n",
       "    </tr>\n",
       "    <tr>\n",
       "      <th>1</th>\n",
       "      <td>1</td>\n",
       "      <td>1.2.001 - Laboratorio Pastas Lisas</td>\n",
       "    </tr>\n",
       "    <tr>\n",
       "      <th>2</th>\n",
       "      <td>1</td>\n",
       "      <td>1.2.001 - Laboratorio Pastas Lisas</td>\n",
       "    </tr>\n",
       "    <tr>\n",
       "      <th>3</th>\n",
       "      <td>1</td>\n",
       "      <td>1.2.001 - Laboratorio Pastas Lisas</td>\n",
       "    </tr>\n",
       "    <tr>\n",
       "      <th>4</th>\n",
       "      <td>1</td>\n",
       "      <td>1.2.001 - Laboratorio Pastas Lisas</td>\n",
       "    </tr>\n",
       "  </tbody>\n",
       "</table>\n",
       "</div>"
      ],
      "text/plain": [
       "   Código Produto                        Centro Custo\n",
       "0               1  1.2.001 - Laboratorio Pastas Lisas\n",
       "1               1  1.2.001 - Laboratorio Pastas Lisas\n",
       "2               1  1.2.001 - Laboratorio Pastas Lisas\n",
       "3               1  1.2.001 - Laboratorio Pastas Lisas\n",
       "4               1  1.2.001 - Laboratorio Pastas Lisas"
      ]
     },
     "execution_count": 16,
     "metadata": {},
     "output_type": "execute_result"
    }
   ],
   "source": [
    "df2.head()"
   ]
  },
  {
   "cell_type": "markdown",
   "metadata": {},
   "source": [
    "Renomear colunas"
   ]
  },
  {
   "cell_type": "code",
   "execution_count": 17,
   "metadata": {},
   "outputs": [],
   "source": [
    "df2.rename(\n",
    "    columns={\n",
    "        'Centro Custo':'Lab',\n",
    "        'Código Produto':'CodProd'\n",
    "    },\n",
    "    inplace=True\n",
    ")"
   ]
  },
  {
   "cell_type": "markdown",
   "metadata": {},
   "source": [
    "Confere os nomes"
   ]
  },
  {
   "cell_type": "code",
   "execution_count": 18,
   "metadata": {},
   "outputs": [
    {
     "data": {
      "text/plain": [
       "Index(['CodProd', 'Lab'], dtype='object')"
      ]
     },
     "execution_count": 18,
     "metadata": {},
     "output_type": "execute_result"
    }
   ],
   "source": [
    "df2.columns"
   ]
  },
  {
   "cell_type": "markdown",
   "metadata": {},
   "source": [
    "Remover duplicatas"
   ]
  },
  {
   "cell_type": "code",
   "execution_count": 19,
   "metadata": {},
   "outputs": [],
   "source": [
    "df2.drop_duplicates(subset=['CodProd'],inplace=True)"
   ]
  },
  {
   "cell_type": "markdown",
   "metadata": {},
   "source": [
    "Confere se os tipos das colunas estão iguais "
   ]
  },
  {
   "cell_type": "code",
   "execution_count": 20,
   "metadata": {
    "scrolled": true
   },
   "outputs": [
    {
     "name": "stdout",
     "output_type": "stream",
     "text": [
      "<class 'pandas.core.frame.DataFrame'>\n",
      "Int64Index: 1259 entries, 0 to 14088\n",
      "Data columns (total 2 columns):\n",
      " #   Column   Non-Null Count  Dtype \n",
      "---  ------   --------------  ----- \n",
      " 0   CodProd  1259 non-null   int64 \n",
      " 1   Lab      1259 non-null   object\n",
      "dtypes: int64(1), object(1)\n",
      "memory usage: 29.5+ KB\n"
     ]
    }
   ],
   "source": [
    "df2.info()"
   ]
  },
  {
   "cell_type": "code",
   "execution_count": 21,
   "metadata": {},
   "outputs": [
    {
     "name": "stdout",
     "output_type": "stream",
     "text": [
      "<class 'pandas.core.frame.DataFrame'>\n",
      "Int64Index: 1109 entries, 581 to 330\n",
      "Data columns (total 4 columns):\n",
      " #   Column   Non-Null Count  Dtype  \n",
      "---  ------   --------------  -----  \n",
      " 0   CodProd  1109 non-null   int64  \n",
      " 1   Estoq    1109 non-null   float64\n",
      " 2   Order    1109 non-null   float64\n",
      " 3   saldo    1109 non-null   float64\n",
      "dtypes: float64(3), int64(1)\n",
      "memory usage: 43.3 KB\n"
     ]
    }
   ],
   "source": [
    "tb.info()"
   ]
  },
  {
   "cell_type": "markdown",
   "metadata": {},
   "source": [
    "Confere se a coluna 'Cod' da df pode ser a chave primária, linha 1 conta os distintos e linha 2 conta o total (devem ser iguais)"
   ]
  },
  {
   "cell_type": "code",
   "execution_count": 22,
   "metadata": {},
   "outputs": [
    {
     "name": "stdout",
     "output_type": "stream",
     "text": [
      "======================================== \n",
      "chave primária ok \n",
      " 1109 \n",
      " 1109\n"
     ]
    }
   ],
   "source": [
    "distintos = tb['CodProd'].nunique()\n",
    "total = tb.shape[0] # o zero significa linhas, para colunas digitar 1\n",
    "\n",
    "if distintos == total:\n",
    "    print('='*40,'\\nchave primária ok','\\n',distintos,'\\n',total)\n",
    "else:    \n",
    "    print('='*40,'\\nIdentificar chave primária!','\\n',distintos,'\\n',total)\n"
   ]
  },
  {
   "cell_type": "markdown",
   "metadata": {},
   "source": [
    "Incia o merge entre df"
   ]
  },
  {
   "cell_type": "code",
   "execution_count": 23,
   "metadata": {},
   "outputs": [
    {
     "data": {
      "text/plain": [
       "Index(['CodProd', 'Estoq', 'Order', 'saldo', 'Lab', '_merge'], dtype='object')"
      ]
     },
     "execution_count": 23,
     "metadata": {},
     "output_type": "execute_result"
    }
   ],
   "source": [
    "mtable=pd.merge(\n",
    "    tb,df2,\n",
    "    left_on='CodProd',\n",
    "    right_on='CodProd', \n",
    "    how='inner',\n",
    "    indicator=True)\n",
    "mtable.columns"
   ]
  },
  {
   "cell_type": "markdown",
   "metadata": {},
   "source": [
    "Confere se a qtde de linhas está a mesma"
   ]
  },
  {
   "cell_type": "code",
   "execution_count": 24,
   "metadata": {},
   "outputs": [
    {
     "name": "stdout",
     "output_type": "stream",
     "text": [
      "  721 \n",
      "  1109 \n",
      " a diferença é de: 388\n"
     ]
    }
   ],
   "source": [
    "mt=mtable.shape[0]\n",
    "print(' ',mt,'\\n ',total,'\\n','a diferença é de:',total-mt)\n"
   ]
  },
  {
   "cell_type": "code",
   "execution_count": 25,
   "metadata": {},
   "outputs": [
    {
     "data": {
      "text/html": [
       "<div>\n",
       "<style scoped>\n",
       "    .dataframe tbody tr th:only-of-type {\n",
       "        vertical-align: middle;\n",
       "    }\n",
       "\n",
       "    .dataframe tbody tr th {\n",
       "        vertical-align: top;\n",
       "    }\n",
       "\n",
       "    .dataframe thead th {\n",
       "        text-align: right;\n",
       "    }\n",
       "</style>\n",
       "<table border=\"1\" class=\"dataframe\">\n",
       "  <thead>\n",
       "    <tr style=\"text-align: right;\">\n",
       "      <th></th>\n",
       "      <th>CodProd</th>\n",
       "      <th>Estoq</th>\n",
       "      <th>Order</th>\n",
       "      <th>saldo</th>\n",
       "      <th>Lab</th>\n",
       "      <th>_merge</th>\n",
       "    </tr>\n",
       "  </thead>\n",
       "  <tbody>\n",
       "    <tr>\n",
       "      <th>0</th>\n",
       "      <td>909</td>\n",
       "      <td>8064.0</td>\n",
       "      <td>44254.0</td>\n",
       "      <td>-36190.0</td>\n",
       "      <td>1.2.002 - Laboratorio Pastas Oleosas</td>\n",
       "      <td>both</td>\n",
       "    </tr>\n",
       "    <tr>\n",
       "      <th>1</th>\n",
       "      <td>1475</td>\n",
       "      <td>1084.0</td>\n",
       "      <td>34104.0</td>\n",
       "      <td>-33020.0</td>\n",
       "      <td>1.2.002 - Laboratorio Pastas Oleosas</td>\n",
       "      <td>both</td>\n",
       "    </tr>\n",
       "    <tr>\n",
       "      <th>2</th>\n",
       "      <td>1128</td>\n",
       "      <td>15134.0</td>\n",
       "      <td>45472.0</td>\n",
       "      <td>-30338.0</td>\n",
       "      <td>1.2.002 - Laboratorio Pastas Oleosas</td>\n",
       "      <td>both</td>\n",
       "    </tr>\n",
       "    <tr>\n",
       "      <th>3</th>\n",
       "      <td>910</td>\n",
       "      <td>17122.0</td>\n",
       "      <td>44828.0</td>\n",
       "      <td>-27706.0</td>\n",
       "      <td>1.2.002 - Laboratorio Pastas Oleosas</td>\n",
       "      <td>both</td>\n",
       "    </tr>\n",
       "    <tr>\n",
       "      <th>4</th>\n",
       "      <td>972</td>\n",
       "      <td>2506.0</td>\n",
       "      <td>23646.0</td>\n",
       "      <td>-21140.0</td>\n",
       "      <td>1.2.002 - Laboratorio Pastas Oleosas</td>\n",
       "      <td>both</td>\n",
       "    </tr>\n",
       "  </tbody>\n",
       "</table>\n",
       "</div>"
      ],
      "text/plain": [
       "   CodProd    Estoq    Order    saldo                                   Lab  \\\n",
       "0      909   8064.0  44254.0 -36190.0  1.2.002 - Laboratorio Pastas Oleosas   \n",
       "1     1475   1084.0  34104.0 -33020.0  1.2.002 - Laboratorio Pastas Oleosas   \n",
       "2     1128  15134.0  45472.0 -30338.0  1.2.002 - Laboratorio Pastas Oleosas   \n",
       "3      910  17122.0  44828.0 -27706.0  1.2.002 - Laboratorio Pastas Oleosas   \n",
       "4      972   2506.0  23646.0 -21140.0  1.2.002 - Laboratorio Pastas Oleosas   \n",
       "\n",
       "  _merge  \n",
       "0   both  \n",
       "1   both  \n",
       "2   both  \n",
       "3   both  \n",
       "4   both  "
      ]
     },
     "execution_count": 25,
     "metadata": {},
     "output_type": "execute_result"
    }
   ],
   "source": [
    "mtable.head()"
   ]
  },
  {
   "cell_type": "markdown",
   "metadata": {},
   "source": [
    "Conferir resultado"
   ]
  },
  {
   "cell_type": "code",
   "execution_count": 26,
   "metadata": {},
   "outputs": [
    {
     "data": {
      "text/html": [
       "<div>\n",
       "<style scoped>\n",
       "    .dataframe tbody tr th:only-of-type {\n",
       "        vertical-align: middle;\n",
       "    }\n",
       "\n",
       "    .dataframe tbody tr th {\n",
       "        vertical-align: top;\n",
       "    }\n",
       "\n",
       "    .dataframe thead th {\n",
       "        text-align: right;\n",
       "    }\n",
       "</style>\n",
       "<table border=\"1\" class=\"dataframe\">\n",
       "  <thead>\n",
       "    <tr style=\"text-align: right;\">\n",
       "      <th></th>\n",
       "      <th>CodProd</th>\n",
       "      <th>Estoq</th>\n",
       "      <th>Order</th>\n",
       "      <th>saldo</th>\n",
       "    </tr>\n",
       "  </thead>\n",
       "  <tbody>\n",
       "    <tr>\n",
       "      <th>count</th>\n",
       "      <td>721.00</td>\n",
       "      <td>721.00</td>\n",
       "      <td>721.00</td>\n",
       "      <td>721.00</td>\n",
       "    </tr>\n",
       "    <tr>\n",
       "      <th>mean</th>\n",
       "      <td>790.94</td>\n",
       "      <td>707.15</td>\n",
       "      <td>748.05</td>\n",
       "      <td>-40.90</td>\n",
       "    </tr>\n",
       "    <tr>\n",
       "      <th>std</th>\n",
       "      <td>599.72</td>\n",
       "      <td>1711.55</td>\n",
       "      <td>3683.75</td>\n",
       "      <td>2851.14</td>\n",
       "    </tr>\n",
       "    <tr>\n",
       "      <th>min</th>\n",
       "      <td>3.00</td>\n",
       "      <td>0.00</td>\n",
       "      <td>0.00</td>\n",
       "      <td>-36190.00</td>\n",
       "    </tr>\n",
       "    <tr>\n",
       "      <th>25%</th>\n",
       "      <td>381.00</td>\n",
       "      <td>8.60</td>\n",
       "      <td>0.00</td>\n",
       "      <td>0.00</td>\n",
       "    </tr>\n",
       "    <tr>\n",
       "      <th>50%</th>\n",
       "      <td>646.00</td>\n",
       "      <td>102.90</td>\n",
       "      <td>4.20</td>\n",
       "      <td>18.80</td>\n",
       "    </tr>\n",
       "    <tr>\n",
       "      <th>75%</th>\n",
       "      <td>1010.00</td>\n",
       "      <td>552.00</td>\n",
       "      <td>146.40</td>\n",
       "      <td>265.00</td>\n",
       "    </tr>\n",
       "    <tr>\n",
       "      <th>max</th>\n",
       "      <td>3014.00</td>\n",
       "      <td>17122.00</td>\n",
       "      <td>45472.00</td>\n",
       "      <td>8784.00</td>\n",
       "    </tr>\n",
       "  </tbody>\n",
       "</table>\n",
       "</div>"
      ],
      "text/plain": [
       "       CodProd     Estoq     Order     saldo\n",
       "count   721.00    721.00    721.00    721.00\n",
       "mean    790.94    707.15    748.05    -40.90\n",
       "std     599.72   1711.55   3683.75   2851.14\n",
       "min       3.00      0.00      0.00 -36190.00\n",
       "25%     381.00      8.60      0.00      0.00\n",
       "50%     646.00    102.90      4.20     18.80\n",
       "75%    1010.00    552.00    146.40    265.00\n",
       "max    3014.00  17122.00  45472.00   8784.00"
      ]
     },
     "execution_count": 26,
     "metadata": {},
     "output_type": "execute_result"
    }
   ],
   "source": [
    "mtable.describe().round(2)"
   ]
  },
  {
   "cell_type": "markdown",
   "metadata": {},
   "source": [
    "colorindo de vermelho o resultado negativo"
   ]
  },
  {
   "cell_type": "code",
   "execution_count": 37,
   "metadata": {},
   "outputs": [],
   "source": [
    "def neg(number):\n",
    "    color = 'red' if number < 0 else 'black'\n",
    "    return f'color: {color}'"
   ]
  },
  {
   "cell_type": "code",
   "execution_count": 38,
   "metadata": {},
   "outputs": [],
   "source": [
    "#mtable.style.applymap(neg,subset=['saldo'])\n",
    "#mtable.round({'Estoq': 0, 'Order': 0,'saldo': 0})\n",
    "#s.round(['Estoq', 'Order', 'saldo'])"
   ]
  },
  {
   "cell_type": "markdown",
   "metadata": {},
   "source": [
    "exporta resultado para excel\n"
   ]
  },
  {
   "cell_type": "code",
   "execution_count": 33,
   "metadata": {},
   "outputs": [],
   "source": [
    "mtable.to_excel(r'C:\\Users\\blc\\Google Drive\\Esquema - planejamento\\ordes.xlsx', sheet_name='saldo', index = False)"
   ]
  },
  {
   "cell_type": "code",
   "execution_count": null,
   "metadata": {},
   "outputs": [],
   "source": []
  }
 ],
 "metadata": {
  "kernelspec": {
   "display_name": "Python 3",
   "language": "python",
   "name": "python3"
  },
  "language_info": {
   "codemirror_mode": {
    "name": "ipython",
    "version": 3
   },
   "file_extension": ".py",
   "mimetype": "text/x-python",
   "name": "python",
   "nbconvert_exporter": "python",
   "pygments_lexer": "ipython3",
   "version": "3.8.3"
  }
 },
 "nbformat": 4,
 "nbformat_minor": 4
}
